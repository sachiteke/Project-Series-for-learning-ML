{
 "cells": [
  {
   "cell_type": "code",
   "execution_count": null,
   "metadata": {},
   "outputs": [],
   "source": [
    "import tensorflow as tf\n",
    "from tensorflow.keras import datasets, models, layers\n",
    "import matplotlib.pyplot as plt\n",
    "\n",
    "(train_img, train_lab), (test_img, test_lab) = datasets.cifar10.load_data()\n",
    "\n",
    "train_img = train_img/255.0\n",
    "test_img = test_img/255.0\n",
    "\n",
    "class_names = ['aeroplane', 'automobile', 'bird', 'cat', 'deer', 'dog', 'frog', 'horse', 'ship', 'truck']\n",
    "\n",
    "layer = models.Sequential()\n",
    "\n",
    "layer.add(layers.Conv2D(32,(3,3), activation = 'relu', input_shape=(32,32,3)))\n",
    "layer.add(layers.MaxPooling2D((2,2)))\n",
    "layer.add(layers.Conv2D(64,(3,3), activation = 'relu'))\n",
    "layer.add(layers.MaxPooling2D((2,2)))\n",
    "layer.add(layers.Conv2D(32,(3,3), activation = 'relu'))\n",
    "layer.add(layers.MaxPooling2D((2,2)))\n",
    "\n",
    "layer.summary()"
   ]
  },
  {
   "cell_type": "code",
   "execution_count": null,
   "metadata": {},
   "outputs": [],
   "source": [
    "layer.add(layers.Flatten())\n",
    "layer.add(layers.Dense(64, activation='relu'))\n",
    "layer.add(layers.Dense(10))\n",
    "\n",
    "layer.summary()"
   ]
  },
  {
   "cell_type": "code",
   "execution_count": 5,
   "metadata": {},
   "outputs": [
    {
     "name": "stdout",
     "output_type": "stream",
     "text": [
      "Epoch 1/10\n",
      "1563/1563 [==============================] - 62s 39ms/step - loss: 0.7813 - accuracy: 0.7255 - val_loss: 0.9440 - val_accuracy: 0.6784\n",
      "Epoch 2/10\n",
      "1563/1563 [==============================] - 69s 44ms/step - loss: 0.7578 - accuracy: 0.7353 - val_loss: 0.9200 - val_accuracy: 0.6839\n",
      "Epoch 3/10\n",
      "1563/1563 [==============================] - 52s 33ms/step - loss: 0.7357 - accuracy: 0.7409 - val_loss: 0.9269 - val_accuracy: 0.6876\n",
      "Epoch 4/10\n",
      "1563/1563 [==============================] - 57s 37ms/step - loss: 0.7099 - accuracy: 0.7518 - val_loss: 0.9124 - val_accuracy: 0.6887\n",
      "Epoch 5/10\n",
      "1563/1563 [==============================] - 48s 31ms/step - loss: 0.6896 - accuracy: 0.7584 - val_loss: 0.9551 - val_accuracy: 0.6815\n",
      "Epoch 6/10\n",
      "1563/1563 [==============================] - 55s 35ms/step - loss: 0.6730 - accuracy: 0.7644 - val_loss: 0.9052 - val_accuracy: 0.6966\n",
      "Epoch 7/10\n",
      "1563/1563 [==============================] - 55s 35ms/step - loss: 0.6588 - accuracy: 0.7690 - val_loss: 0.9086 - val_accuracy: 0.6979\n",
      "Epoch 8/10\n",
      "1563/1563 [==============================] - 62s 40ms/step - loss: 0.6350 - accuracy: 0.7759 - val_loss: 0.9242 - val_accuracy: 0.6951\n",
      "Epoch 9/10\n",
      "1563/1563 [==============================] - 60s 38ms/step - loss: 0.6251 - accuracy: 0.7806 - val_loss: 0.9420 - val_accuracy: 0.6882\n",
      "Epoch 10/10\n",
      "1563/1563 [==============================] - 64s 41ms/step - loss: 0.6064 - accuracy: 0.7863 - val_loss: 0.9118 - val_accuracy: 0.7010\n"
     ]
    }
   ],
   "source": [
    "layer.compile(optimizer='adam', loss=tf.keras.losses.SparseCategoricalCrossentropy(from_logits=True), metrics=['accuracy'])\n",
    "\n",
    "history = layer.fit(train_img, train_lab, epochs=10, validation_data=(test_img, test_lab))"
   ]
  },
  {
   "cell_type": "code",
   "execution_count": 6,
   "metadata": {},
   "outputs": [
    {
     "name": "stdout",
     "output_type": "stream",
     "text": [
      "313/313 - 3s - loss: 0.9118 - accuracy: 0.7010 - 3s/epoch - 9ms/step\n",
      "0.7009999752044678\n"
     ]
    },
    {
     "data": {
      "image/png": "[encoded data removed]",
      "text/plain": [
       "<Figure size 640x480 with 1 Axes>"
      ]
     },
     "metadata": {},
     "output_type": "display_data"
    }
   ],
   "source": [
    "plt.plot(history.history['accuracy'], label='accuracy')\n",
    "plt.plot(history.history['val_accuracy'], label = 'val_accuracy')\n",
    "plt.xlabel('Epoch')\n",
    "plt.ylabel('Accuracy')\n",
    "plt.ylim([0.5, 1])\n",
    "plt.legend(loc='lower right')\n",
    "\n",
    "test_loss, test_acc = layer.evaluate(test_img, test_lab, verbose=2)\n",
    "\n",
    "print(test_acc)"
   ]
  }
 ],
 "metadata": {
  "kernelspec": {
   "display_name": "Python 3.8.10 64-bit",
   "language": "python",
   "name": "python3"
  },
  "language_info": {
   "codemirror_mode": {
    "name": "ipython",
    "version": 3
   },
   "file_extension": ".py",
   "mimetype": "text/x-python",
   "name": "python",
   "nbconvert_exporter": "python",
   "pygments_lexer": "ipython3",
   "version": "3.8.10"
  },
  "orig_nbformat": 4,
  "vscode": {
   "interpreter": {
    "hash": "1b8cbef5142091c4f447f0fb2555a4ecb9041b4ad5535e83c3d3b37282d4ea4e"
   }
  }
 },
 "nbformat": 4,
 "nbformat_minor": 2
}
