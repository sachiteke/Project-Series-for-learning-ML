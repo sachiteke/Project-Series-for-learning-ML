{
 "cells": [
  {
   "cell_type": "code",
   "execution_count": 1,
   "metadata": {},
   "outputs": [
    {
     "name": "stdout",
     "output_type": "stream",
     "text": [
      "Model: \"sequential\"\n",
      "_________________________________________________________________\n",
      " Layer (type)                Output Shape              Param #   \n",
      "=================================================================\n",
      " conv2d (Conv2D)             (None, 30, 30, 32)        896       \n",
      "                                                                 \n",
      " max_pooling2d (MaxPooling2D  (None, 15, 15, 32)       0         \n",
      " )                                                               \n",
      "                                                                 \n",
      " conv2d_1 (Conv2D)           (None, 13, 13, 64)        18496     \n",
      "                                                                 \n",
      " max_pooling2d_1 (MaxPooling  (None, 6, 6, 64)         0         \n",
      " 2D)                                                             \n",
      "                                                                 \n",
      " conv2d_2 (Conv2D)           (None, 4, 4, 32)          18464     \n",
      "                                                                 \n",
      " max_pooling2d_2 (MaxPooling  (None, 2, 2, 32)         0         \n",
      " 2D)                                                             \n",
      "                                                                 \n",
      "=================================================================\n",
      "Total params: 37,856\n",
      "Trainable params: 37,856\n",
      "Non-trainable params: 0\n",
      "_________________________________________________________________\n"
     ]
    }
   ],
   "source": [
    "import tensorflow as tf\n",
    "from tensorflow.keras import datasets, models, layers\n",
    "import matplotlib.pyplot as plt\n",
    "\n",
    "(train_img, train_lab), (test_img, test_lab) = datasets.cifar10.load_data()\n",
    "\n",
    "train_img = train_img/255.0\n",
    "test_img = test_img/255.0\n",
    "\n",
    "class_names = ['aeroplane', 'automobile', 'bird', 'cat', 'deer', 'dog', 'frog', 'horse', 'ship', 'truck']\n",
    "\n",
    "layer = models.Sequential()\n",
    "\n",
    "layer.add(layers.Conv2D(32,(3,3), activation = 'relu', input_shape=(32,32,3)))\n",
    "layer.add(layers.MaxPooling2D((2,2)))\n",
    "layer.add(layers.Conv2D(64,(3,3), activation = 'relu'))\n",
    "layer.add(layers.MaxPooling2D((2,2)))\n",
    "layer.add(layers.Conv2D(32,(3,3), activation = 'relu'))\n",
    "layer.add(layers.MaxPooling2D((2,2)))\n",
    "\n",
    "layer.summary()"
   ]
  },
  {
   "cell_type": "code",
   "execution_count": 2,
   "metadata": {},
   "outputs": [
    {
     "name": "stdout",
     "output_type": "stream",
     "text": [
      "Model: \"sequential\"\n",
      "_________________________________________________________________\n",
      " Layer (type)                Output Shape              Param #   \n",
      "=================================================================\n",
      " conv2d (Conv2D)             (None, 30, 30, 32)        896       \n",
      "                                                                 \n",
      " max_pooling2d (MaxPooling2D  (None, 15, 15, 32)       0         \n",
      " )                                                               \n",
      "                                                                 \n",
      " conv2d_1 (Conv2D)           (None, 13, 13, 64)        18496     \n",
      "                                                                 \n",
      " max_pooling2d_1 (MaxPooling  (None, 6, 6, 64)         0         \n",
      " 2D)                                                             \n",
      "                                                                 \n",
      " conv2d_2 (Conv2D)           (None, 4, 4, 32)          18464     \n",
      "                                                                 \n",
      " max_pooling2d_2 (MaxPooling  (None, 2, 2, 32)         0         \n",
      " 2D)                                                             \n",
      "                                                                 \n",
      " flatten (Flatten)           (None, 128)               0         \n",
      "                                                                 \n",
      " dense (Dense)               (None, 64)                8256      \n",
      "                                                                 \n",
      " dense_1 (Dense)             (None, 10)                650       \n",
      "                                                                 \n",
      "=================================================================\n",
      "Total params: 46,762\n",
      "Trainable params: 46,762\n",
      "Non-trainable params: 0\n",
      "_________________________________________________________________\n"
     ]
    }
   ],
   "source": [
    "layer.add(layers.Flatten())\n",
    "layer.add(layers.Dense(64, activation='relu'))\n",
    "layer.add(layers.Dense(10))\n",
    "\n",
    "layer.summary()"
   ]
  },
  {
   "cell_type": "code",
   "execution_count": 4,
   "metadata": {},
   "outputs": [
    {
     "name": "stdout",
     "output_type": "stream",
     "text": [
      "Epoch 1/10\n",
      "1563/1563 [==============================] - 73s 46ms/step - loss: 0.7679 - accuracy: 0.7301 - val_loss: 0.9383 - val_accuracy: 0.6735\n",
      "Epoch 2/10\n",
      "1563/1563 [==============================] - 72s 46ms/step - loss: 0.7446 - accuracy: 0.7372 - val_loss: 0.8959 - val_accuracy: 0.6961\n",
      "Epoch 3/10\n",
      "1563/1563 [==============================] - 77s 49ms/step - loss: 0.7293 - accuracy: 0.7442 - val_loss: 0.8875 - val_accuracy: 0.6986\n",
      "Epoch 4/10\n",
      "1563/1563 [==============================] - 63s 40ms/step - loss: 0.7032 - accuracy: 0.7531 - val_loss: 0.8885 - val_accuracy: 0.7052\n",
      "Epoch 5/10\n",
      "1563/1563 [==============================] - 46s 30ms/step - loss: 0.6873 - accuracy: 0.7566 - val_loss: 0.8755 - val_accuracy: 0.7046\n",
      "Epoch 6/10\n",
      "1563/1563 [==============================] - 48s 31ms/step - loss: 0.6748 - accuracy: 0.7640 - val_loss: 0.8800 - val_accuracy: 0.7031\n",
      "Epoch 7/10\n",
      "1563/1563 [==============================] - 46s 29ms/step - loss: 0.6560 - accuracy: 0.7693 - val_loss: 0.8995 - val_accuracy: 0.7028\n",
      "Epoch 8/10\n",
      "1563/1563 [==============================] - 46s 30ms/step - loss: 0.6409 - accuracy: 0.7754 - val_loss: 0.9067 - val_accuracy: 0.6991\n",
      "Epoch 9/10\n",
      "1563/1563 [==============================] - 45s 29ms/step - loss: 0.6268 - accuracy: 0.7793 - val_loss: 0.8893 - val_accuracy: 0.7056\n",
      "Epoch 10/10\n",
      "1563/1563 [==============================] - 47s 30ms/step - loss: 0.6102 - accuracy: 0.7845 - val_loss: 0.9433 - val_accuracy: 0.6921\n"
     ]
    }
   ],
   "source": [
    "layer.compile(optimizer='adam', loss=tf.keras.losses.SparseCategoricalCrossentropy(from_logits=True), metrics=['accuracy'])\n",
    "\n",
    "history = layer.fit(train_img, train_lab, epochs=10, validation_data=(test_img, test_lab))"
   ]
  },
  {
   "cell_type": "code",
   "execution_count": 5,
   "metadata": {},
   "outputs": [
    {
     "name": "stdout",
     "output_type": "stream",
     "text": [
      "313/313 - 3s - loss: 0.9433 - accuracy: 0.6921 - 3s/epoch - 10ms/step\n",
      "0.6920999884605408\n"
     ]
    },
    {
     "data": {
      "image/png": "[encoded data removed]",
      "text/plain": [
       "<Figure size 640x480 with 1 Axes>"
      ]
     },
     "metadata": {},
     "output_type": "display_data"
    }
   ],
   "source": [
    "plt.plot(history.history['accuracy'], label='accuracy')\n",
    "plt.plot(history.history['val_accuracy'], label = 'val_accuracy')\n",
    "plt.xlabel('Epoch')\n",
    "plt.ylabel('Accuracy')\n",
    "plt.ylim([0.5, 1])\n",
    "plt.legend(loc='lower right')\n",
    "\n",
    "test_loss, test_acc = layer.evaluate(test_img, test_lab, verbose=2)\n",
    "\n",
    "print(test_acc)"
   ]
  }
 ],
 "metadata": {
  "kernelspec": {
   "display_name": "Python 3.8.10 64-bit",
   "language": "python",
   "name": "python3"
  },
  "language_info": {
   "codemirror_mode": {
    "name": "ipython",
    "version": 3
   },
   "file_extension": ".py",
   "mimetype": "text/x-python",
   "name": "python",
   "nbconvert_exporter": "python",
   "pygments_lexer": "ipython3",
   "version": "3.8.10"
  },
  "orig_nbformat": 4,
  "vscode": {
   "interpreter": {
    "hash": "1b8cbef5142091c4f447f0fb2555a4ecb9041b4ad5535e83c3d3b37282d4ea4e"
   }
  }
 },
 "nbformat": 4,
 "nbformat_minor": 2
}
